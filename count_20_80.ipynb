{
 "cells": [
  {
   "cell_type": "code",
   "execution_count": 2,
   "outputs": [],
   "source": [
    "import matplotlib.pyplot as plt\n",
    "import numpy as np\n",
    "import pandas as pd\n",
    "from scipy import stats\n",
    "\n",
    "import time\n",
    "from time import localtime as lt\n",
    "\n",
    "from astropy.coordinates import SkyCoord\n",
    "import seaborn as seaborn\n",
    "from astropy import units as u\n",
    "from astropy.cosmology import FlatLambdaCDM\n",
    "from astropy.cosmology import Planck15 as cosmo"
   ],
   "metadata": {
    "collapsed": false,
    "pycharm": {
     "name": "#%%\n"
    }
   }
  },
  {
   "cell_type": "markdown",
   "source": [
    "### 加载数据以及基本信息"
   ],
   "metadata": {
    "collapsed": false,
    "pycharm": {
     "name": "#%% md\n"
    }
   }
  },
  {
   "cell_type": "code",
   "execution_count": 3,
   "outputs": [],
   "source": [
    "data_ori_z_05_35=pd.read_csv('data_ori_z_00_35_sort_by_mpc.csv')     # 所有数据\n",
    "data_background=pd.read_csv('data_used_z_le_4.csv')     # 背景数据"
   ],
   "metadata": {
    "collapsed": false,
    "pycharm": {
     "name": "#%%\n"
    }
   }
  },
  {
   "cell_type": "code",
   "execution_count": 3,
   "outputs": [
    {
     "data": {
      "text/plain": "181320"
     },
     "execution_count": 3,
     "metadata": {},
     "output_type": "execute_result"
    }
   ],
   "source": [
    "len(data_ori_z_05_35)"
   ],
   "metadata": {
    "collapsed": false,
    "pycharm": {
     "name": "#%%\n"
    }
   }
  },
  {
   "cell_type": "code",
   "execution_count": null,
   "outputs": [
    {
     "name": "stdout",
     "output_type": "stream",
     "text": [
      "0.02mpc time:0:17:52  "
     ]
    }
   ],
   "source": [
    "r_kpc=[20,40,60,80]\n",
    "# r_kpc=[20,40,60,80,100,200,400,500,800,1000,1200,1400,2000,2200]\n",
    "\n",
    "\n",
    "neighbour=-99*np.ones((len(data_ori_z_05_35),len(r_kpc)))\n",
    "neighbour_kde_sum=-99*np.ones((len(data_ori_z_05_35),len(r_kpc)))\n",
    "t0=time.time()\n",
    "count=0\n",
    "\n",
    "for kpc_index,lim in enumerate(r_kpc):\n",
    "\n",
    "    lim=lim/1000    # mpc\n",
    "    lim_=lim+1\n",
    "\n",
    "\n",
    "    print(str(lim)+'mpc',end=' ')\n",
    "    print('time:{}:{}:{} '.format(lt().tm_hour,lt().tm_min,lt().tm_sec),end=' ')\n",
    "    kde_acc=[]\n",
    "\n",
    "    for ra1,dec1,mpc1,i in zip(data_ori_z_05_35['RA'],data_ori_z_05_35['DEC'],data_ori_z_05_35['comoving_radial_distance_mpc'],range(len(data_ori_z_05_35))):\n",
    "        c1 = SkyCoord(ra=ra1*u.degree, dec=dec1*u.degree,distance=mpc1*u.Mpc)\n",
    "        frame_tem=data_background[(data_background['comoving_radial_distance_mpc']>mpc1-lim_)&(data_background['comoving_radial_distance_mpc']<mpc1+lim_)]\n",
    "\n",
    "        for ra2,dec2,mpc2,kde_ in zip(frame_tem['RA'],frame_tem['DEC'],frame_tem['comoving_radial_distance_mpc'],frame_tem['kde_normalisation']):\n",
    "            # if np.abs(mpc1-mpc2)>1800:\n",
    "                # if mpc1+lim_>mpc2>mpc1-lim_:    # 优化速度\n",
    "\n",
    "                    c2 = SkyCoord(ra=ra2*u.degree, dec=dec2*u.degree,distance=mpc2*u.Mpc)\n",
    "\n",
    "                    if c1.separation_3d(c2).value <=lim:\n",
    "\n",
    "                        kde_acc.append(kde_)\n",
    "                        count+=1\n",
    "\n",
    "        neighbour[i,kpc_index]=count-1\n",
    "        neighbour_kde_sum[i,kpc_index]=sum(kde_acc)\n",
    "        count=0\n",
    "        kde_acc=[]\n",
    "\n",
    "    print('spend:{:.2f} min'.format((time.time()-t0)/60))\n",
    "\n",
    "neighbour_3D_seperation=pd.DataFrame(neighbour)\n",
    "kde_sum=pd.DataFrame(neighbour_kde_sum)"
   ],
   "metadata": {
    "collapsed": false,
    "pycharm": {
     "name": "#%%\n",
     "is_executing": true
    }
   }
  },
  {
   "cell_type": "code",
   "execution_count": null,
   "outputs": [],
   "source": [
    "exec(\"neighbour_3D_seperation.to_csv('count_neighbour_{}_{}.csv',index=False)\".format(r_kpc[0],r_kpc[-1]))\n",
    "exec(\"kde_sum.to_csv('count_kde_{}_{}.csv',index=False)\".format(r_kpc[0],r_kpc[-1]))"
   ],
   "metadata": {
    "collapsed": false,
    "pycharm": {
     "name": "#%%\n",
     "is_executing": true
    }
   }
  }
 ],
 "metadata": {
  "kernelspec": {
   "display_name": "Python 3",
   "language": "python",
   "name": "python3"
  },
  "language_info": {
   "codemirror_mode": {
    "name": "ipython",
    "version": 2
   },
   "file_extension": ".py",
   "mimetype": "text/x-python",
   "name": "python",
   "nbconvert_exporter": "python",
   "pygments_lexer": "ipython2",
   "version": "2.7.6"
  }
 },
 "nbformat": 4,
 "nbformat_minor": 0
}