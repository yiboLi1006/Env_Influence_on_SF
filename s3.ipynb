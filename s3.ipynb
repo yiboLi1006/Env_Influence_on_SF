{
 "cells": [
  {
   "cell_type": "markdown",
   "source": [
    "#### readme:\n",
    "整合来自近邻计数和KDE近邻求和的数据\n",
    "\n",
    "合并为两个DataFrame:\n",
    "1.kde_total\n",
    "2.nei_total\n",
    "\n",
    "最终输出：data_ori_z_05_35_sort_by_mpc_add_param.csv\n",
    "整合了原有物理参数以及kde,nei数据"
   ],
   "metadata": {
    "collapsed": false,
    "pycharm": {
     "name": "#%% md\n"
    }
   }
  },
  {
   "cell_type": "code",
   "execution_count": 1,
   "outputs": [],
   "source": [
    "import matplotlib.pyplot as plt\n",
    "import numpy as np\n",
    "import pandas as pd\n",
    "\n",
    "\n",
    "import os\n",
    "from scipy import stats\n",
    "from astropy.coordinates import SkyCoord\n",
    "import seaborn as seaborn\n",
    "from astropy import units as u\n",
    "from astropy.cosmology import FlatLambdaCDM\n",
    "from astropy.cosmology import Planck15 as cosmo"
   ],
   "metadata": {
    "collapsed": false,
    "pycharm": {
     "name": "#%%\n"
    }
   }
  },
  {
   "cell_type": "markdown",
   "source": [
    "#### 合并csv文档"
   ],
   "metadata": {
    "collapsed": false,
    "pycharm": {
     "name": "#%% md\n"
    }
   }
  },
  {
   "cell_type": "code",
   "execution_count": 2,
   "outputs": [],
   "source": [
    "r_kpc_=[20,40,60,80,100,200,400,500,800,1000,1200,1400,2000,2200,2600,3000]\n",
    "\n",
    "kde_total=pd.read_csv('./output_csv/kde_sum_20.csv')\n",
    "nei_total=pd.read_csv('./output_csv/neighbour_3D_seperation_20.csv')\n",
    "\n",
    "for i in r_kpc_:\n",
    "        kde_tem=pd.read_csv('./output_csv/kde_sum_{}.csv'.format(i))\n",
    "        nei_tem=pd.read_csv('./output_csv/neighbour_3D_seperation_{}.csv'.format(i))\n",
    "\n",
    "        kde_total['kde_sum_{}'.format(i)]=kde_tem['0']\n",
    "        nei_total['nei_sum_{}'.format(i)]=nei_tem['0']\n",
    "\n",
    "kde_total.drop(['Unnamed: 0','0'],axis=1,inplace=True)\n",
    "nei_total.drop(['Unnamed: 0','0'],axis=1,inplace=True)"
   ],
   "metadata": {
    "collapsed": false,
    "pycharm": {
     "name": "#%%\n"
    }
   }
  },
  {
   "cell_type": "markdown",
   "source": [
    "#### 得到每个尺寸下的平均kde"
   ],
   "metadata": {
    "collapsed": false,
    "pycharm": {
     "name": "#%% md\n"
    }
   }
  },
  {
   "cell_type": "code",
   "execution_count": 3,
   "outputs": [],
   "source": [
    "kde_average=pd.DataFrame(-999*np.ones((len(kde_total),len(r_kpc_))))\n",
    "\n",
    "for j in range(len(r_kpc_)):\n",
    "    for i in range(len(kde_total)):\n",
    "        if nei_total.iloc[i,j]==0:\n",
    "            kde_average.iloc[i,j]=kde_total.iloc[i,j]\n",
    "        else:\n",
    "            ttt=(kde_total.iloc[i,j])/(nei_total.iloc[i,j])\n",
    "            kde_average.iloc[i,j]=ttt      # 得到每个尺寸下的平均kde"
   ],
   "metadata": {
    "collapsed": false,
    "pycharm": {
     "name": "#%%\n"
    }
   }
  },
  {
   "cell_type": "code",
   "execution_count": 4,
   "outputs": [
    {
     "data": {
      "text/plain": "181320"
     },
     "execution_count": 4,
     "metadata": {},
     "output_type": "execute_result"
    }
   ],
   "source": [
    "len(kde_average)"
   ],
   "metadata": {
    "collapsed": false,
    "pycharm": {
     "name": "#%%\n"
    }
   }
  },
  {
   "cell_type": "markdown",
   "source": [
    "#### 计算不同尺度下的 density"
   ],
   "metadata": {
    "collapsed": false,
    "pycharm": {
     "name": "#%% md\n"
    }
   }
  },
  {
   "cell_type": "code",
   "execution_count": 5,
   "outputs": [],
   "source": [
    "density=pd.DataFrame(999*np.ones((len(kde_total),len(r_kpc_))))\n",
    "density.columns=['density_20','density_40','density_60','density_80','density_100','density_200','density_400','density_500','density_800','density_1000','density_1200','density_1400','density_2000','density_2200','density_2600','density_3000']\n",
    "\n",
    "for n,c in enumerate(density.columns):\n",
    "    tem=kde_average.iloc[:,n]/np.log(r_kpc_[n])\n",
    "    density[c]=tem"
   ],
   "metadata": {
    "collapsed": false,
    "pycharm": {
     "name": "#%%\n"
    }
   }
  },
  {
   "cell_type": "code",
   "execution_count": 6,
   "outputs": [
    {
     "data": {
      "text/plain": "181320"
     },
     "execution_count": 6,
     "metadata": {},
     "output_type": "execute_result"
    }
   ],
   "source": [
    "len(density)"
   ],
   "metadata": {
    "collapsed": false,
    "pycharm": {
     "name": "#%%\n"
    }
   }
  },
  {
   "cell_type": "markdown",
   "source": [
    "#### 将星系物理信息和kde,nei数据合并"
   ],
   "metadata": {
    "collapsed": false,
    "pycharm": {
     "name": "#%% md\n"
    }
   }
  },
  {
   "cell_type": "code",
   "execution_count": 7,
   "outputs": [],
   "source": [
    "# 所有数据\n",
    "data_ori_z_05_35=pd.read_csv('data_ori_z_05_35_sort_by_mpc.csv')\n",
    "\n",
    "\n",
    "data_ori_z_05_35['ssfr']=data_ori_z_05_35['lp_SFR_med']-data_ori_z_05_35['lp_mass_best']"
   ],
   "metadata": {
    "collapsed": false,
    "pycharm": {
     "name": "#%%\n"
    }
   }
  },
  {
   "cell_type": "code",
   "execution_count": 8,
   "outputs": [],
   "source": [
    "for c in nei_total.columns:\n",
    "    data_ori_z_05_35[c]=nei_total[c]\n",
    "\n",
    "\n",
    "for c in density.columns:\n",
    "    data_ori_z_05_35[c]=density[c]"
   ],
   "metadata": {
    "collapsed": false,
    "pycharm": {
     "name": "#%%\n"
    }
   }
  },
  {
   "cell_type": "code",
   "execution_count": 9,
   "outputs": [
    {
     "data": {
      "text/plain": "             ID          RA       DEC       X_IMAGE       Y_IMAGE  \\\n0        884529  150.031908  2.256563  24739.855469  23175.228516   \n1        653172  149.830656  2.045145  29567.189453  18101.722656   \n2        853993  149.993710  2.232933  25655.943359  22608.162109   \n3        962886  150.021089  2.331814  24999.199219  24981.271484   \n4       1020596  149.872515  2.384318  28561.837891  26241.798828   \n...         ...         ...       ...           ...           ...   \n181315   855227  150.174640  2.233648  21316.908203  22625.222656   \n181316   813369  149.860418  2.196797  28852.714844  21741.304688   \n181317   813342  149.821869  2.196782  29777.218750  21741.103516   \n181318   909936  149.995590  2.284049  25610.750000  23834.945312   \n181319   501530  150.191227  1.903079  20918.724609  14691.510742   \n\n        HSC_g_FLUXERR_APER3  HSC_g_MAG_APER3  HSC_g_MAGERR_APER3  \\\n0                  0.033664        22.237005            0.008365   \n1                  0.013434        24.798761            0.035379   \n2                  0.008699        27.485142            0.271876   \n3                  0.009622        26.139133            0.086754   \n4                  0.010247        26.153310            0.093768   \n...                     ...              ...                 ...   \n181315             0.008858        26.649893            0.127248   \n181316             0.009337        26.933392            0.175967   \n181317             0.008665        29.330772            1.484834   \n181318             0.009132        27.180273            0.215387   \n181319             0.009310        27.080564            0.199428   \n\n        HSC_r_FLUXERR_APER3  HSC_r_MAG_APER3  ...  density_400  density_500  \\\n0                  0.050496        21.317850  ...     0.006634     0.006396   \n1                  0.018970        23.779758  ...     0.005525     0.005327   \n2                  0.010708        27.026620  ...     0.006597     0.006360   \n3                  0.012907        25.240316  ...     0.006306     0.006080   \n4                  0.012874        25.350235  ...     0.005826     0.005617   \n...                     ...              ...  ...          ...          ...   \n181315             0.012080        25.620985  ...     0.000470     0.000453   \n181316             0.011879        26.061490  ...     0.000593     0.000571   \n181317             0.011200        27.079970  ...     0.000565     0.000545   \n181318             0.011067        26.431720  ...     0.000556     0.000536   \n181319             0.011571        26.272362  ...     0.000628     0.000605   \n\n        density_800  density_1000  density_1200  density_1400  density_2000  \\\n0          0.005946      0.005754      0.005606      0.005487      0.007824   \n1          0.004953      0.004793      0.004669      0.004570      0.008853   \n2          0.005913      0.005722      0.005575      0.005456      0.007677   \n3          0.005652      0.005470      0.005329      0.005216      0.009997   \n4          0.005222      0.005053      0.004923      0.004819      0.004592   \n...             ...           ...           ...           ...           ...   \n181315     0.000422      0.000408      0.000397      0.000389      0.000371   \n181316     0.000531      0.000514      0.000501      0.000490      0.000467   \n181317     0.000507      0.000490      0.000478      0.000468      0.000446   \n181318     0.000498      0.000482      0.000469      0.000459      0.000438   \n181319     0.000563      0.000544      0.000530      0.000519      0.000495   \n\n        density_2200  density_2600  density_3000  \n0           0.007727      0.005790      0.005518  \n1           0.008744      0.006423      0.005183  \n2           0.007582      0.007420      0.006126  \n3           0.009873      0.006166      0.005487  \n4           0.004536      0.006583      0.005412  \n...              ...           ...           ...  \n181315      0.000366      0.000358      0.000352  \n181316      0.000461      0.000452      0.000443  \n181317      0.000440      0.000431      0.000423  \n181318      0.000432      0.000423      0.000416  \n181319      0.000489      0.000478      0.000470  \n\n[181320 rows x 84 columns]",
      "text/html": "<div>\n<style scoped>\n    .dataframe tbody tr th:only-of-type {\n        vertical-align: middle;\n    }\n\n    .dataframe tbody tr th {\n        vertical-align: top;\n    }\n\n    .dataframe thead th {\n        text-align: right;\n    }\n</style>\n<table border=\"1\" class=\"dataframe\">\n  <thead>\n    <tr style=\"text-align: right;\">\n      <th></th>\n      <th>ID</th>\n      <th>RA</th>\n      <th>DEC</th>\n      <th>X_IMAGE</th>\n      <th>Y_IMAGE</th>\n      <th>HSC_g_FLUXERR_APER3</th>\n      <th>HSC_g_MAG_APER3</th>\n      <th>HSC_g_MAGERR_APER3</th>\n      <th>HSC_r_FLUXERR_APER3</th>\n      <th>HSC_r_MAG_APER3</th>\n      <th>...</th>\n      <th>density_400</th>\n      <th>density_500</th>\n      <th>density_800</th>\n      <th>density_1000</th>\n      <th>density_1200</th>\n      <th>density_1400</th>\n      <th>density_2000</th>\n      <th>density_2200</th>\n      <th>density_2600</th>\n      <th>density_3000</th>\n    </tr>\n  </thead>\n  <tbody>\n    <tr>\n      <th>0</th>\n      <td>884529</td>\n      <td>150.031908</td>\n      <td>2.256563</td>\n      <td>24739.855469</td>\n      <td>23175.228516</td>\n      <td>0.033664</td>\n      <td>22.237005</td>\n      <td>0.008365</td>\n      <td>0.050496</td>\n      <td>21.317850</td>\n      <td>...</td>\n      <td>0.006634</td>\n      <td>0.006396</td>\n      <td>0.005946</td>\n      <td>0.005754</td>\n      <td>0.005606</td>\n      <td>0.005487</td>\n      <td>0.007824</td>\n      <td>0.007727</td>\n      <td>0.005790</td>\n      <td>0.005518</td>\n    </tr>\n    <tr>\n      <th>1</th>\n      <td>653172</td>\n      <td>149.830656</td>\n      <td>2.045145</td>\n      <td>29567.189453</td>\n      <td>18101.722656</td>\n      <td>0.013434</td>\n      <td>24.798761</td>\n      <td>0.035379</td>\n      <td>0.018970</td>\n      <td>23.779758</td>\n      <td>...</td>\n      <td>0.005525</td>\n      <td>0.005327</td>\n      <td>0.004953</td>\n      <td>0.004793</td>\n      <td>0.004669</td>\n      <td>0.004570</td>\n      <td>0.008853</td>\n      <td>0.008744</td>\n      <td>0.006423</td>\n      <td>0.005183</td>\n    </tr>\n    <tr>\n      <th>2</th>\n      <td>853993</td>\n      <td>149.993710</td>\n      <td>2.232933</td>\n      <td>25655.943359</td>\n      <td>22608.162109</td>\n      <td>0.008699</td>\n      <td>27.485142</td>\n      <td>0.271876</td>\n      <td>0.010708</td>\n      <td>27.026620</td>\n      <td>...</td>\n      <td>0.006597</td>\n      <td>0.006360</td>\n      <td>0.005913</td>\n      <td>0.005722</td>\n      <td>0.005575</td>\n      <td>0.005456</td>\n      <td>0.007677</td>\n      <td>0.007582</td>\n      <td>0.007420</td>\n      <td>0.006126</td>\n    </tr>\n    <tr>\n      <th>3</th>\n      <td>962886</td>\n      <td>150.021089</td>\n      <td>2.331814</td>\n      <td>24999.199219</td>\n      <td>24981.271484</td>\n      <td>0.009622</td>\n      <td>26.139133</td>\n      <td>0.086754</td>\n      <td>0.012907</td>\n      <td>25.240316</td>\n      <td>...</td>\n      <td>0.006306</td>\n      <td>0.006080</td>\n      <td>0.005652</td>\n      <td>0.005470</td>\n      <td>0.005329</td>\n      <td>0.005216</td>\n      <td>0.009997</td>\n      <td>0.009873</td>\n      <td>0.006166</td>\n      <td>0.005487</td>\n    </tr>\n    <tr>\n      <th>4</th>\n      <td>1020596</td>\n      <td>149.872515</td>\n      <td>2.384318</td>\n      <td>28561.837891</td>\n      <td>26241.798828</td>\n      <td>0.010247</td>\n      <td>26.153310</td>\n      <td>0.093768</td>\n      <td>0.012874</td>\n      <td>25.350235</td>\n      <td>...</td>\n      <td>0.005826</td>\n      <td>0.005617</td>\n      <td>0.005222</td>\n      <td>0.005053</td>\n      <td>0.004923</td>\n      <td>0.004819</td>\n      <td>0.004592</td>\n      <td>0.004536</td>\n      <td>0.006583</td>\n      <td>0.005412</td>\n    </tr>\n    <tr>\n      <th>...</th>\n      <td>...</td>\n      <td>...</td>\n      <td>...</td>\n      <td>...</td>\n      <td>...</td>\n      <td>...</td>\n      <td>...</td>\n      <td>...</td>\n      <td>...</td>\n      <td>...</td>\n      <td>...</td>\n      <td>...</td>\n      <td>...</td>\n      <td>...</td>\n      <td>...</td>\n      <td>...</td>\n      <td>...</td>\n      <td>...</td>\n      <td>...</td>\n      <td>...</td>\n      <td>...</td>\n    </tr>\n    <tr>\n      <th>181315</th>\n      <td>855227</td>\n      <td>150.174640</td>\n      <td>2.233648</td>\n      <td>21316.908203</td>\n      <td>22625.222656</td>\n      <td>0.008858</td>\n      <td>26.649893</td>\n      <td>0.127248</td>\n      <td>0.012080</td>\n      <td>25.620985</td>\n      <td>...</td>\n      <td>0.000470</td>\n      <td>0.000453</td>\n      <td>0.000422</td>\n      <td>0.000408</td>\n      <td>0.000397</td>\n      <td>0.000389</td>\n      <td>0.000371</td>\n      <td>0.000366</td>\n      <td>0.000358</td>\n      <td>0.000352</td>\n    </tr>\n    <tr>\n      <th>181316</th>\n      <td>813369</td>\n      <td>149.860418</td>\n      <td>2.196797</td>\n      <td>28852.714844</td>\n      <td>21741.304688</td>\n      <td>0.009337</td>\n      <td>26.933392</td>\n      <td>0.175967</td>\n      <td>0.011879</td>\n      <td>26.061490</td>\n      <td>...</td>\n      <td>0.000593</td>\n      <td>0.000571</td>\n      <td>0.000531</td>\n      <td>0.000514</td>\n      <td>0.000501</td>\n      <td>0.000490</td>\n      <td>0.000467</td>\n      <td>0.000461</td>\n      <td>0.000452</td>\n      <td>0.000443</td>\n    </tr>\n    <tr>\n      <th>181317</th>\n      <td>813342</td>\n      <td>149.821869</td>\n      <td>2.196782</td>\n      <td>29777.218750</td>\n      <td>21741.103516</td>\n      <td>0.008665</td>\n      <td>29.330772</td>\n      <td>1.484834</td>\n      <td>0.011200</td>\n      <td>27.079970</td>\n      <td>...</td>\n      <td>0.000565</td>\n      <td>0.000545</td>\n      <td>0.000507</td>\n      <td>0.000490</td>\n      <td>0.000478</td>\n      <td>0.000468</td>\n      <td>0.000446</td>\n      <td>0.000440</td>\n      <td>0.000431</td>\n      <td>0.000423</td>\n    </tr>\n    <tr>\n      <th>181318</th>\n      <td>909936</td>\n      <td>149.995590</td>\n      <td>2.284049</td>\n      <td>25610.750000</td>\n      <td>23834.945312</td>\n      <td>0.009132</td>\n      <td>27.180273</td>\n      <td>0.215387</td>\n      <td>0.011067</td>\n      <td>26.431720</td>\n      <td>...</td>\n      <td>0.000556</td>\n      <td>0.000536</td>\n      <td>0.000498</td>\n      <td>0.000482</td>\n      <td>0.000469</td>\n      <td>0.000459</td>\n      <td>0.000438</td>\n      <td>0.000432</td>\n      <td>0.000423</td>\n      <td>0.000416</td>\n    </tr>\n    <tr>\n      <th>181319</th>\n      <td>501530</td>\n      <td>150.191227</td>\n      <td>1.903079</td>\n      <td>20918.724609</td>\n      <td>14691.510742</td>\n      <td>0.009310</td>\n      <td>27.080564</td>\n      <td>0.199428</td>\n      <td>0.011571</td>\n      <td>26.272362</td>\n      <td>...</td>\n      <td>0.000628</td>\n      <td>0.000605</td>\n      <td>0.000563</td>\n      <td>0.000544</td>\n      <td>0.000530</td>\n      <td>0.000519</td>\n      <td>0.000495</td>\n      <td>0.000489</td>\n      <td>0.000478</td>\n      <td>0.000470</td>\n    </tr>\n  </tbody>\n</table>\n<p>181320 rows × 84 columns</p>\n</div>"
     },
     "execution_count": 9,
     "metadata": {},
     "output_type": "execute_result"
    }
   ],
   "source": [
    "data_ori_z_05_35"
   ],
   "metadata": {
    "collapsed": false,
    "pycharm": {
     "name": "#%%\n"
    }
   }
  },
  {
   "cell_type": "code",
   "execution_count": 10,
   "outputs": [],
   "source": [
    "# data_ori_z_05_35.to_csv('data_ori_z_05_35_sort_by_mpc_add_param__ssfr_corrected.csv',index=False)"
   ],
   "metadata": {
    "collapsed": false,
    "pycharm": {
     "name": "#%%\n"
    }
   }
  }
 ],
 "metadata": {
  "kernelspec": {
   "display_name": "Python 3",
   "language": "python",
   "name": "python3"
  },
  "language_info": {
   "codemirror_mode": {
    "name": "ipython",
    "version": 2
   },
   "file_extension": ".py",
   "mimetype": "text/x-python",
   "name": "python",
   "nbconvert_exporter": "python",
   "pygments_lexer": "ipython2",
   "version": "2.7.6"
  }
 },
 "nbformat": 4,
 "nbformat_minor": 0
}